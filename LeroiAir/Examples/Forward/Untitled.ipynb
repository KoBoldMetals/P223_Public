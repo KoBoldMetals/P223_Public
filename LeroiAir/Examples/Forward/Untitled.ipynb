{
 "cells": [
  {
   "cell_type": "markdown",
   "metadata": {},
   "source": [
    "# P223 Read tests"
   ]
  },
  {
   "cell_type": "markdown",
   "metadata": {},
   "source": [
    "More tests around how to read M?1 format data"
   ]
  },
  {
   "cell_type": "code",
   "execution_count": 22,
   "metadata": {},
   "outputs": [],
   "source": [
    "iname = \"LAT_Tempest.mf1\""
   ]
  },
  {
   "cell_type": "code",
   "execution_count": 116,
   "metadata": {},
   "outputs": [],
   "source": [
    "import os\n",
    "import numpy"
   ]
  },
  {
   "cell_type": "code",
   "execution_count": 27,
   "metadata": {},
   "outputs": [
    {
     "data": {
      "text/plain": [
       "os.stat_result(st_mode=33204, st_ino=19794805, st_dev=2065, st_nlink=1, st_uid=85232, st_gid=85232, st_size=92335, st_atime=1582695149, st_mtime=1580783754, st_ctime=1580783754)"
      ]
     },
     "execution_count": 27,
     "metadata": {},
     "output_type": "execute_result"
    }
   ],
   "source": [
    "os.stat(iname)"
   ]
  },
  {
   "cell_type": "code",
   "execution_count": 64,
   "metadata": {},
   "outputs": [
    {
     "name": "stdout",
     "output_type": "stream",
     "text": [
      "193\n"
     ]
    }
   ],
   "source": [
    "f = open(\"LAT_Tempest.mf1\", \"r\")\n",
    "irawd = f.readlines()\n",
    "f.close\n",
    "print(len(irawd))"
   ]
  },
  {
   "cell_type": "code",
   "execution_count": 65,
   "metadata": {},
   "outputs": [],
   "source": [
    "icmnt = []\n",
    "idata = []"
   ]
  },
  {
   "cell_type": "code",
   "execution_count": 101,
   "metadata": {},
   "outputs": [],
   "source": [
    "for jl in irawd:\n",
    "    if jl == \"\\n\":\n",
    "        continue\n",
    "    else:\n",
    "        temp = jl.split()\n",
    "        if temp[0] == '/':\n",
    "            icmnt.append(temp)\n",
    "        elif temp[0].isnumeric():\n",
    "            idata.append(temp)"
   ]
  },
  {
   "cell_type": "markdown",
   "metadata": {},
   "source": [
    "We should be able to split the data as we go.  For now"
   ]
  },
  {
   "cell_type": "code",
   "execution_count": 129,
   "metadata": {},
   "outputs": [
    {
     "ename": "AttributeError",
     "evalue": "'list' object has no attribute 'split'",
     "output_type": "error",
     "traceback": [
      "\u001b[0;31m---------------------------------------------------------------------------\u001b[0m",
      "\u001b[0;31mAttributeError\u001b[0m                            Traceback (most recent call last)",
      "\u001b[0;32m<ipython-input-129-83188bd0df09>\u001b[0m in \u001b[0;36m<module>\u001b[0;34m\u001b[0m\n\u001b[1;32m      1\u001b[0m \u001b[0;32mfor\u001b[0m \u001b[0mjd\u001b[0m \u001b[0;32min\u001b[0m \u001b[0midata\u001b[0m\u001b[0;34m:\u001b[0m\u001b[0;34m\u001b[0m\u001b[0;34m\u001b[0m\u001b[0m\n\u001b[0;32m----> 2\u001b[0;31m     \u001b[0mtemp\u001b[0m \u001b[0;34m=\u001b[0m \u001b[0mnumpy\u001b[0m\u001b[0;34m.\u001b[0m\u001b[0marray\u001b[0m\u001b[0;34m(\u001b[0m\u001b[0mjd\u001b[0m\u001b[0;34m.\u001b[0m\u001b[0msplit\u001b[0m\u001b[0;34m(\u001b[0m\u001b[0;34m)\u001b[0m\u001b[0;34m,\u001b[0m\u001b[0mdtype\u001b[0m\u001b[0;34m=\u001b[0m\u001b[0mfloat\u001b[0m\u001b[0;34m)\u001b[0m\u001b[0;34m\u001b[0m\u001b[0;34m\u001b[0m\u001b[0m\n\u001b[0m",
      "\u001b[0;31mAttributeError\u001b[0m: 'list' object has no attribute 'split'"
     ]
    }
   ],
   "source": [
    "for jd in idata:\n",
    "    temp = numpy.array(jd.split(),dtype=float)"
   ]
  },
  {
   "cell_type": "code",
   "execution_count": 127,
   "metadata": {},
   "outputs": [
    {
     "data": {
      "text/plain": [
       "array([161.])"
      ]
     },
     "execution_count": 127,
     "metadata": {},
     "output_type": "execute_result"
    }
   ],
   "source": [
    "temp"
   ]
  },
  {
   "cell_type": "code",
   "execution_count": 118,
   "metadata": {},
   "outputs": [
    {
     "data": {
      "text/plain": [
       "array([ 1.61000000e+02,  2.60000000e+03,  0.00000000e+00,  1.00000000e+02,\n",
       "        6.00000000e+00,  2.50000000e+03, -0.00000000e+00,  5.00000000e+01,\n",
       "        1.38736060e+01,  1.21696480e+01,  1.09871060e+01,  9.60900900e+00,\n",
       "        7.79945300e+00,  5.69998900e+00,  3.60968500e+00,  1.99538900e+00,\n",
       "        9.82548327e-01,  4.30679557e-01,  1.68281633e-01,  5.99509000e-02,\n",
       "        2.00790500e-02,  6.59580200e-03,  2.08829800e-03,  1.63003020e+01,\n",
       "        1.21947880e+01,  9.97815100e+00,  7.83142000e+00,  5.52619100e+00,\n",
       "        3.41136700e+00,  1.76738600e+00,  7.83897446e-01,  3.06761921e-01,\n",
       "        1.05865865e-01,  3.23326810e-02,  9.02558800e-03,  2.39988800e-03,\n",
       "        6.42816788e-04,  1.71660424e-04])"
      ]
     },
     "execution_count": 118,
     "metadata": {},
     "output_type": "execute_result"
    }
   ],
   "source": [
    "numpy.array(temp,dtype=float)"
   ]
  },
  {
   "cell_type": "code",
   "execution_count": null,
   "metadata": {},
   "outputs": [],
   "source": []
  }
 ],
 "metadata": {
  "kernelspec": {
   "display_name": "Python 3",
   "language": "python",
   "name": "python3"
  },
  "language_info": {
   "codemirror_mode": {
    "name": "ipython",
    "version": 3
   },
   "file_extension": ".py",
   "mimetype": "text/x-python",
   "name": "python",
   "nbconvert_exporter": "python",
   "pygments_lexer": "ipython3",
   "version": "3.6.9"
  }
 },
 "nbformat": 4,
 "nbformat_minor": 4
}
